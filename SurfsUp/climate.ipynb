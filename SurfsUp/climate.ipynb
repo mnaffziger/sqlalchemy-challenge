{
 "cells": [
  {
   "cell_type": "code",
   "execution_count": 117,
   "metadata": {},
   "outputs": [],
   "source": [
    "#%matplotlib inline\n",
    "from matplotlib import style\n",
    "style.use('fivethirtyeight')\n",
    "import matplotlib.pyplot as plt\n",
    "from matplotlib import ticker\n",
    "import matplotlib.dates as mdates"
   ]
  },
  {
   "cell_type": "code",
   "execution_count": 118,
   "metadata": {},
   "outputs": [],
   "source": [
    "import numpy as np\n",
    "import pandas as pd\n",
    "import datetime as dt"
   ]
  },
  {
   "attachments": {},
   "cell_type": "markdown",
   "metadata": {},
   "source": [
    "# Reflect Tables into SQLAlchemy ORM"
   ]
  },
  {
   "cell_type": "code",
   "execution_count": 119,
   "metadata": {},
   "outputs": [],
   "source": [
    "# Python SQL toolkit and Object Relational Mapper\n",
    "import sqlalchemy\n",
    "from sqlalchemy.ext.automap import automap_base\n",
    "from sqlalchemy.orm import Session\n",
    "from sqlalchemy import create_engine, func, inspect"
   ]
  },
  {
   "cell_type": "code",
   "execution_count": 120,
   "metadata": {},
   "outputs": [],
   "source": [
    "# Create Engine using 'hawaii.sqlite' database file\n",
    "engine = create_engine('sqlite:///../src/hawaii.sqlite')"
   ]
  },
  {
   "cell_type": "code",
   "execution_count": 121,
   "metadata": {},
   "outputs": [],
   "source": [
    "# Declare a Base using 'automap_base()'\n",
    "Base = automap_base()"
   ]
  },
  {
   "cell_type": "code",
   "execution_count": 122,
   "metadata": {},
   "outputs": [],
   "source": [
    "# Use the Base class to reflect the database tables\n",
    "Base.prepare(autoload_with=engine)"
   ]
  },
  {
   "cell_type": "code",
   "execution_count": 123,
   "metadata": {},
   "outputs": [
    {
     "data": {
      "text/plain": [
       "['measurement', 'station']"
      ]
     },
     "execution_count": 123,
     "metadata": {},
     "output_type": "execute_result"
    }
   ],
   "source": [
    "# Print all of the classes mapped to the Base\n",
    "Base.classes.keys()"
   ]
  },
  {
   "cell_type": "code",
   "execution_count": 124,
   "metadata": {},
   "outputs": [],
   "source": [
    "# Save references to each table\n",
    "Measurement = Base.classes.measurement\n",
    "Station = Base.classes.station"
   ]
  },
  {
   "cell_type": "code",
   "execution_count": 125,
   "metadata": {},
   "outputs": [],
   "source": [
    "# Create our session (link) from Python to the DB\n",
    "session = Session(engine)"
   ]
  },
  {
   "attachments": {},
   "cell_type": "markdown",
   "metadata": {},
   "source": [
    "# Exploratory Precipitation Analysis"
   ]
  },
  {
   "cell_type": "code",
   "execution_count": 126,
   "metadata": {},
   "outputs": [
    {
     "name": "stdout",
     "output_type": "stream",
     "text": [
      "id INTEGER\n",
      "station TEXT\n",
      "date TEXT\n",
      "prcp FLOAT\n",
      "tobs FLOAT\n"
     ]
    }
   ],
   "source": [
    "inspector = inspect(engine)\n",
    "col_inspector = inspector.get_columns('measurement')\n",
    "for column in col_inspector:\n",
    "    print(column[\"name\"],column[\"type\"])"
   ]
  },
  {
   "cell_type": "code",
   "execution_count": 127,
   "metadata": {},
   "outputs": [
    {
     "name": "stdout",
     "output_type": "stream",
     "text": [
      "('2017-08-23',)\n"
     ]
    },
    {
     "data": {
      "text/plain": [
       "sqlalchemy.engine.row.Row"
      ]
     },
     "execution_count": 127,
     "metadata": {},
     "output_type": "execute_result"
    }
   ],
   "source": [
    "# Find the most recent date in the data set.\n",
    "recent = session.query(Measurement.date).order_by(Measurement.date.desc()).first()\n",
    "print(recent)\n",
    "type(recent)\n",
    "\n",
    "# this returns a tuple"
   ]
  },
  {
   "cell_type": "code",
   "execution_count": 128,
   "metadata": {},
   "outputs": [
    {
     "name": "stdout",
     "output_type": "stream",
     "text": [
      "2017-08-23\n"
     ]
    },
    {
     "data": {
      "text/plain": [
       "str"
      ]
     },
     "execution_count": 128,
     "metadata": {},
     "output_type": "execute_result"
    }
   ],
   "source": [
    "#Find the most recent date in the data set as a single value\n",
    "recent2 = session.query(func.max(Measurement.date)).scalar()\n",
    "print(recent2)\n",
    "type(recent2)"
   ]
  },
  {
   "cell_type": "code",
   "execution_count": 129,
   "metadata": {},
   "outputs": [
    {
     "name": "stdout",
     "output_type": "stream",
     "text": [
      "Most recent date on file: 2017-08-23\n",
      "Precipitation range starts on: 2016-08-23\n"
     ]
    }
   ],
   "source": [
    "# Design a query to retrieve the last 12 months of precipitation data and plot the results. \n",
    "\n",
    "# Starting from the most recent data point in the database. \n",
    "# Need to convert the queried dat from a string into a type usable by datetime \n",
    "# -- configured from in class activities\n",
    "query_recent_date_str = session.query(func.max(Measurement.date)).scalar()\n",
    "\n",
    "# year_ago_pd = query_recent_date_str - pd.DateOffset(years=1)\n",
    "start_date = dt.datetime.strptime(query_recent_date_str,'%Y-%m-%d').date()\n",
    "\n",
    "# Calculate the date one year from the last date in data set.\n",
    "year_ago = start_date - dt.timedelta(days = 365)\n",
    "print(f\"Most recent date on file: {start_date}\")\n",
    "print(f\"Precipitation range starts on: {year_ago}\")"
   ]
  },
  {
   "cell_type": "code",
   "execution_count": 130,
   "metadata": {},
   "outputs": [],
   "source": [
    "# Perform a query to retrieve the data and precipitation scores\n",
    "precip_query = session.query(Measurement.station,\n",
    "                             Measurement.date, \n",
    "                             Measurement.prcp).\\\n",
    "                    filter(Measurement.date >= year_ago).\\\n",
    "                    order_by(Measurement.date).\\\n",
    "                    all()\n",
    "                                                               \n",
    "# # Save the query results as a Pandas DataFrame. Explicitly set the column names\n",
    "recent_year_precip = pd.DataFrame([(data.date, data.prcp) for data in precip_query]\n",
    "                  , columns = ['Date', 'Precip']\n",
    "                  )\n",
    "\n",
    "\n",
    "# Sort the dataframe by date\n",
    "recent_year_precip_sort = recent_year_precip.sort_values(['Date'])\n"
   ]
  },
  {
   "cell_type": "code",
   "execution_count": 131,
   "metadata": {},
   "outputs": [],
   "source": [
    "# Convert ['Date'] from string to datetime\n",
    "# https://pandas.pydata.org/docs/reference/api/pandas.to_datetime.html\n",
    "# https://stackoverflow.com/questions/45704366/how-to-change-the-datetime-tick-label-frequency-for-matplotlib-plots\n",
    "# The second web address (stackoverflow) helped with dropping the hour/minute/second info after the datetime conversion\n",
    "\n",
    "recent_year_precip_sort['Date'] = [pd.to_datetime(date, format = '%Y-%m-%d').date() for date in recent_year_precip_sort['Date']]\n"
   ]
  },
  {
   "cell_type": "code",
   "execution_count": 132,
   "metadata": {},
   "outputs": [
    {
     "name": "stderr",
     "output_type": "stream",
     "text": [
      "/var/folders/y9/z_8b8_4101z89mf3t6r1tf6m0000gn/T/ipykernel_3528/4058847457.py:23: UserWarning: FixedFormatter should only be used together with FixedLocator\n",
      "  ax.set_xticklabels(x_label)\n"
     ]
    },
    {
     "data": {
      "image/png": "[encoded data removed]",
      "text/plain": [
       "<Figure size 640x480 with 1 Axes>"
      ]
     },
     "metadata": {},
     "output_type": "display_data"
    }
   ],
   "source": [
    "# Use Pandas Plotting with Matplotlib to plot the data\n",
    "\n",
    "# Needed help with the date formatting: \n",
    "# https://matplotlib.org/stable/gallery/text_labels_and_annotations/legend_demo.html\n",
    "# https://matplotlib.org/stable/api/dates_api.html\n",
    "# https://stackoverflow.com/questions/45704366/how-to-change-the-datetime-tick-label-frequency-for-matplotlib-plots\n",
    "\n",
    "\n",
    "\n",
    "# plot data\n",
    "x = recent_year_precip_sort['Date']\n",
    "y = recent_year_precip_sort['Precip']\n",
    "x_label = x.unique()\n",
    "\n",
    "#plot type\n",
    "ax = plt.subplot()\n",
    "ax.bar(x,y\n",
    "       ,width = 3.8\n",
    "       ,label = 'Percipitation'\n",
    "         )\n",
    "\n",
    "# format x-axis\n",
    "ax.set_xticklabels(x_label)\n",
    "ax.tick_params(axis=\"x\", rotation = 90)\n",
    "\n",
    "# format legend, title, and axis labels\n",
    "ax.legend(loc = (0.2,0.8), fancybox = True)\n",
    "plt.xlabel('Date')\n",
    "plt.ylabel('Inches')\n",
    "plt.title(f\"Precipitation from {year_ago} to {start_date}\")\n",
    "\n",
    "\n",
    "plt.show()"
   ]
  },
  {
   "cell_type": "code",
   "execution_count": 133,
   "metadata": {},
   "outputs": [
    {
     "data": {
      "text/html": [
       "<div>\n",
       "<style scoped>\n",
       "    .dataframe tbody tr th:only-of-type {\n",
       "        vertical-align: middle;\n",
       "    }\n",
       "\n",
       "    .dataframe tbody tr th {\n",
       "        vertical-align: top;\n",
       "    }\n",
       "\n",
       "    .dataframe thead th {\n",
       "        text-align: right;\n",
       "    }\n",
       "</style>\n",
       "<table border=\"1\" class=\"dataframe\">\n",
       "  <thead>\n",
       "    <tr style=\"text-align: right;\">\n",
       "      <th></th>\n",
       "      <th>Precip</th>\n",
       "    </tr>\n",
       "  </thead>\n",
       "  <tbody>\n",
       "    <tr>\n",
       "      <th>count</th>\n",
       "      <td>2021.000000</td>\n",
       "    </tr>\n",
       "    <tr>\n",
       "      <th>mean</th>\n",
       "      <td>0.177279</td>\n",
       "    </tr>\n",
       "    <tr>\n",
       "      <th>std</th>\n",
       "      <td>0.461190</td>\n",
       "    </tr>\n",
       "    <tr>\n",
       "      <th>min</th>\n",
       "      <td>0.000000</td>\n",
       "    </tr>\n",
       "    <tr>\n",
       "      <th>25%</th>\n",
       "      <td>0.000000</td>\n",
       "    </tr>\n",
       "    <tr>\n",
       "      <th>50%</th>\n",
       "      <td>0.020000</td>\n",
       "    </tr>\n",
       "    <tr>\n",
       "      <th>75%</th>\n",
       "      <td>0.130000</td>\n",
       "    </tr>\n",
       "    <tr>\n",
       "      <th>max</th>\n",
       "      <td>6.700000</td>\n",
       "    </tr>\n",
       "  </tbody>\n",
       "</table>\n",
       "</div>"
      ],
      "text/plain": [
       "            Precip\n",
       "count  2021.000000\n",
       "mean      0.177279\n",
       "std       0.461190\n",
       "min       0.000000\n",
       "25%       0.000000\n",
       "50%       0.020000\n",
       "75%       0.130000\n",
       "max       6.700000"
      ]
     },
     "execution_count": 133,
     "metadata": {},
     "output_type": "execute_result"
    }
   ],
   "source": [
    "# Use Pandas to calculate the summary statistics for the precipitation data\n",
    "recent_year_precip_sort.describe()"
   ]
  },
  {
   "attachments": {},
   "cell_type": "markdown",
   "metadata": {},
   "source": [
    "# Exploratory Station Analysis"
   ]
  },
  {
   "cell_type": "code",
   "execution_count": 134,
   "metadata": {},
   "outputs": [
    {
     "name": "stdout",
     "output_type": "stream",
     "text": [
      "9\n"
     ]
    }
   ],
   "source": [
    "# Design a query to calculate the total number of stations in the dataset\n",
    "query_station_count = session.query(Station).group_by(Station.station).count()\n",
    "print(query_station_count)\n"
   ]
  },
  {
   "cell_type": "code",
   "execution_count": 135,
   "metadata": {},
   "outputs": [
    {
     "data": {
      "text/plain": [
       "[('USC00519281', 2772),\n",
       " ('USC00519397', 2724),\n",
       " ('USC00513117', 2709),\n",
       " ('USC00519523', 2669),\n",
       " ('USC00516128', 2612),\n",
       " ('USC00514830', 2202),\n",
       " ('USC00511918', 1979),\n",
       " ('USC00517948', 1372),\n",
       " ('USC00518838', 511)]"
      ]
     },
     "execution_count": 135,
     "metadata": {},
     "output_type": "execute_result"
    }
   ],
   "source": [
    "# Design a query to find the most active stations (i.e. which stations have the most rows?)\n",
    "# List the stations and their counts in descending order.\n",
    "query_station_activity = session.query(Measurement.station,func.count()).\\\n",
    "                                    group_by(Measurement.station).\\\n",
    "                                    order_by(func.count().desc()).\\\n",
    "                                    all()                    \n",
    "query_station_activity\n",
    "\n",
    "# If you want to create pd DataFrame...\n",
    "\n",
    "# station_activity = pd.DataFrame(query_station_activity, columns=['Station','Records'])\n",
    "# station_activity"
   ]
  },
  {
   "cell_type": "code",
   "execution_count": 136,
   "metadata": {},
   "outputs": [
    {
     "data": {
      "text/plain": [
       "'USC00519281'"
      ]
     },
     "execution_count": 136,
     "metadata": {},
     "output_type": "execute_result"
    }
   ],
   "source": [
    "# recent = session.query(Measurement.date).order_by(Measurement.date.desc()).first()\n",
    "\n",
    "query_most_active_station =  session.query(Measurement.station,\n",
    "                                           func.count()).\\\n",
    "                                    group_by(Measurement.station).\\\n",
    "                                    order_by(func.count().desc()).\\\n",
    "                                    first()   \n",
    "most_active_station = query_most_active_station[0]\n",
    "most_active_station"
   ]
  },
  {
   "cell_type": "code",
   "execution_count": 137,
   "metadata": {},
   "outputs": [
    {
     "data": {
      "text/plain": [
       "[(54.0, 85.0, 71.66378066378067)]"
      ]
     },
     "execution_count": 137,
     "metadata": {},
     "output_type": "execute_result"
    }
   ],
   "source": [
    "# Using the most active station id from the previous query, calculate the lowest, highest, and average temperature.\n",
    "active_station_stats = session.query(func.min(Measurement.tobs),\n",
    "                                    func.max(Measurement.tobs),\n",
    "                                    func.avg(Measurement.tobs)).\\\n",
    "                                    filter(Measurement.station == most_active_station).all()\n",
    "\n",
    "active_station_stats"
   ]
  },
  {
   "cell_type": "code",
   "execution_count": 138,
   "metadata": {},
   "outputs": [
    {
     "data": {
      "image/png": "[encoded data removed]",
      "text/plain": [
       "<Figure size 640x480 with 1 Axes>"
      ]
     },
     "metadata": {},
     "output_type": "display_data"
    }
   ],
   "source": [
    "# Using the most active station id\n",
    "# Query the last 12 months of temperature observation data for this station and plot the results as a histogram\n",
    "\n",
    "recent_tobs_result = session.query(Measurement.date,\n",
    "                                    Measurement.tobs).\\\n",
    "                                filter(Measurement.station == most_active_station).\\\n",
    "                                filter(Measurement.date >=year_ago).\\\n",
    "                                order_by(Measurement.date).\\\n",
    "                                all()\n",
    "\n",
    "# Organize data for upcomming plot\n",
    "active_station_tobs_recent_year = [{'Date':result[0], 'Temperature': result[1]} for result in recent_tobs_result]\n",
    "active_station_tobs_recent_year = pd.DataFrame(active_station_tobs_recent_year).set_index('Date')\n",
    "\n",
    "\n",
    "# plot data\n",
    "x = active_station_tobs_recent_year\n",
    "\n",
    "# If the number of bins was to equal the number of unique temperature recordings/values\n",
    "# n_bins = len(active_station_tobs_recent_year.groupby(\"Temperature\").value_counts())\n",
    "\n",
    "#plot type\n",
    "ax = plt.subplot()\n",
    "\n",
    "ax.hist(x, \n",
    "        bins = 12, \n",
    "        linewidth = 0.5\n",
    "        )\n",
    "\n",
    "# bins = 12 because temps are recorded per day, and each been represents a mounth of data\n",
    "# ...though I think the # of bins should be the number of unique temps recorded\n",
    "\n",
    "# format legend, title, and axis labels\n",
    "\n",
    "# https://matplotlib.org/stable/gallery/statistics/hist.html#sphx-glr-gallery-statistics-hist-py\n",
    "# https://matplotlib.org/stable/api/_as_gen/matplotlib.pyplot.legend.html\n",
    "\n",
    "ax.legend(['tobs'],loc = 'upper right', fancybox = True)\n",
    "plt.xlabel('Temperature (°F)')\n",
    "plt.ylabel('Frequency (Days)')\n",
    "plt.title(f\"Recorded Temperature Observed \\n from {year_ago} to {start_date}\")\n",
    "\n",
    "\n",
    "plt.show()\n"
   ]
  },
  {
   "attachments": {},
   "cell_type": "markdown",
   "metadata": {},
   "source": [
    "# Close Session"
   ]
  },
  {
   "cell_type": "code",
   "execution_count": 139,
   "metadata": {},
   "outputs": [],
   "source": [
    "# Close Session\n",
    "session.close()"
   ]
  },
  {
   "cell_type": "code",
   "execution_count": null,
   "metadata": {},
   "outputs": [],
   "source": []
  }
 ],
 "metadata": {
  "anaconda-cloud": {},
  "kernel_info": {
   "name": "python3"
  },
  "kernelspec": {
   "display_name": "Python 3 (ipykernel)",
   "language": "python",
   "name": "python3"
  },
  "language_info": {
   "codemirror_mode": {
    "name": "ipython",
    "version": 3
   },
   "file_extension": ".py",
   "mimetype": "text/x-python",
   "name": "python",
   "nbconvert_exporter": "python",
   "pygments_lexer": "ipython3",
   "version": "3.10.10"
  },
  "nteract": {
   "version": "0.12.3"
  },
  "varInspector": {
   "cols": {
    "lenName": 16,
    "lenType": 16,
    "lenVar": 40
   },
   "kernels_config": {
    "python": {
     "delete_cmd_postfix": "",
     "delete_cmd_prefix": "del ",
     "library": "var_list.py",
     "varRefreshCmd": "print(var_dic_list())"
    },
    "r": {
     "delete_cmd_postfix": ") ",
     "delete_cmd_prefix": "rm(",
     "library": "var_list.r",
     "varRefreshCmd": "cat(var_dic_list()) "
    }
   },
   "types_to_exclude": [
    "module",
    "function",
    "builtin_function_or_method",
    "instance",
    "_Feature"
   ],
   "window_display": false
  }
 },
 "nbformat": 4,
 "nbformat_minor": 2
}
